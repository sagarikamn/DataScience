{
 "cells": [
  {
   "cell_type": "markdown",
   "id": "20f2ec83-ed98-4491-af0c-53f3ed373794",
   "metadata": {},
   "source": [
    "# Data Science Tools and Ecosystem"
   ]
  },
  {
   "cell_type": "markdown",
   "id": "794ecaad-19c7-448c-a4e8-a7cdc4bf38d3",
   "metadata": {},
   "source": [
    "In this notebook, Data Science Tools and Ecosystem are summarized."
   ]
  },
  {
   "cell_type": "markdown",
   "id": "b5eba743-011a-4f3f-a684-cd3f993cf969",
   "metadata": {},
   "source": [
    "**Objectives:**\n",
    "- List popular languages for Data Science\n",
    "- List commonly used libraries by Data Scientists\n",
    "- Basic arithmetic operations\n",
    "- Solving a mathematical expression\n",
    "- Conversion from hours to minutes\n"
   ]
  },
  {
   "cell_type": "markdown",
   "id": "b846fb47-cd8d-42bf-b579-03b49622448b",
   "metadata": {},
   "source": [
    "Some of the popular languages that Data Scientists use are:\n"
   ]
  },
  {
   "cell_type": "markdown",
   "id": "4d6e8a5f-2f6f-4cfc-a1a6-a5ba48ef5a96",
   "metadata": {},
   "source": [
    "1.Python"
   ]
  },
  {
   "cell_type": "markdown",
   "id": "89e44007-1f45-4561-b1f7-f24d6e888b21",
   "metadata": {},
   "source": [
    "2.R"
   ]
  },
  {
   "cell_type": "markdown",
   "id": "022175cc-d0fb-46f4-b3dc-54beb1b508f5",
   "metadata": {},
   "source": [
    "3.SQL"
   ]
  },
  {
   "cell_type": "markdown",
   "id": "3e40e954-ee5f-4ab8-8305-39df18cbd0cb",
   "metadata": {},
   "source": [
    "Some of the commonly used libraries used by Data Scientists include:"
   ]
  },
  {
   "cell_type": "markdown",
   "id": "73eb3e86-919e-40a9-94f7-dfbb4176dab5",
   "metadata": {},
   "source": [
    "1.NumPy"
   ]
  },
  {
   "cell_type": "markdown",
   "id": "b01588f9-fcbb-4904-8e14-2d587ca2d2ca",
   "metadata": {},
   "source": [
    "2.Pandas"
   ]
  },
  {
   "cell_type": "markdown",
   "id": "1c08cdc5-22ab-40ec-b120-20b15853b8e1",
   "metadata": {},
   "source": [
    "3.Matplotlib"
   ]
  },
  {
   "cell_type": "markdown",
   "id": "fb557494-ebd7-4b20-b6a5-afe42e81b555",
   "metadata": {},
   "source": [
    "4.TensorFlow"
   ]
  },
  {
   "cell_type": "markdown",
   "id": "3578593d-5102-40dc-a5f3-2af042626e50",
   "metadata": {},
   "source": [
    "5.Scikit-Learn"
   ]
  },
  {
   "cell_type": "markdown",
   "id": "0864e06d-bb34-4c58-b459-0c15c72f4e1a",
   "metadata": {},
   "source": [
    "## Data Science Tools\n",
    "\n",
    "- Jupyter Notebook\n",
    "- RStudio\n",
    "- Apache Zeppelin\n"
   ]
  },
  {
   "cell_type": "code",
   "execution_count": 21,
   "id": "dcccce6c-4841-4944-92a8-99b7416d24f0",
   "metadata": {},
   "outputs": [
    {
     "data": {
      "text/plain": [
       "17"
      ]
     },
     "execution_count": 21,
     "metadata": {},
     "output_type": "execute_result"
    }
   ],
   "source": [
    "8+9"
   ]
  },
  {
   "cell_type": "code",
   "execution_count": 23,
   "id": "b74e570d-2ce2-4f6b-aa42-64fd1475386d",
   "metadata": {},
   "outputs": [
    {
     "data": {
      "text/plain": [
       "6"
      ]
     },
     "execution_count": 23,
     "metadata": {},
     "output_type": "execute_result"
    }
   ],
   "source": [
    "25-19"
   ]
  },
  {
   "cell_type": "code",
   "execution_count": 25,
   "id": "510f2166-d073-494f-9b28-ae2146f3e74f",
   "metadata": {},
   "outputs": [
    {
     "data": {
      "text/plain": [
       "625"
      ]
     },
     "execution_count": 25,
     "metadata": {},
     "output_type": "execute_result"
    }
   ],
   "source": [
    "25*25"
   ]
  },
  {
   "cell_type": "code",
   "execution_count": 27,
   "id": "a481e424-9f52-441c-a106-56f11f91948c",
   "metadata": {},
   "outputs": [
    {
     "data": {
      "text/plain": [
       "12.5"
      ]
     },
     "execution_count": 27,
     "metadata": {},
     "output_type": "execute_result"
    }
   ],
   "source": [
    "25/2"
   ]
  },
  {
   "cell_type": "code",
   "execution_count": 29,
   "id": "40f2de07-6554-43d0-beb3-cf5c216fed8d",
   "metadata": {},
   "outputs": [
    {
     "data": {
      "text/plain": [
       "12"
      ]
     },
     "execution_count": 29,
     "metadata": {},
     "output_type": "execute_result"
    }
   ],
   "source": [
    "25//2"
   ]
  },
  {
   "cell_type": "code",
   "execution_count": 31,
   "id": "08345ec7-3816-4c99-b77c-3745ef488191",
   "metadata": {},
   "outputs": [
    {
     "data": {
      "text/plain": [
       "1"
      ]
     },
     "execution_count": 31,
     "metadata": {},
     "output_type": "execute_result"
    }
   ],
   "source": [
    "25%2"
   ]
  },
  {
   "cell_type": "code",
   "execution_count": 13,
   "id": "b9e69428-2948-4dfd-8c43-413a85337720",
   "metadata": {},
   "outputs": [
    {
     "data": {
      "text/plain": [
       "17"
      ]
     },
     "execution_count": 13,
     "metadata": {},
     "output_type": "execute_result"
    }
   ],
   "source": [
    "#This a simple arithmetic expression to mutiply then add integers\n",
    "(3*4)+5"
   ]
  },
  {
   "cell_type": "code",
   "execution_count": 15,
   "id": "2c096805-e19c-4084-a709-41931bbb9ce5",
   "metadata": {},
   "outputs": [
    {
     "data": {
      "text/plain": [
       "3.3333333333333335"
      ]
     },
     "execution_count": 15,
     "metadata": {},
     "output_type": "execute_result"
    }
   ],
   "source": [
    "#This will convert 200 minutes to hours by diving by 60\n",
    "200/60"
   ]
  },
  {
   "cell_type": "markdown",
   "id": "cd5553db-6194-4ca8-a091-04b590cb69b1",
   "metadata": {},
   "source": [
    "## Author\n",
    "Sagarika M N"
   ]
  },
  {
   "cell_type": "code",
   "execution_count": null,
   "id": "f70f8766-35fa-4e3e-801a-c58aec1d7337",
   "metadata": {},
   "outputs": [],
   "source": []
  },
  {
   "cell_type": "code",
   "execution_count": null,
   "id": "c880bc65-8a7c-4868-8326-76266d4a085b",
   "metadata": {},
   "outputs": [],
   "source": []
  },
  {
   "cell_type": "code",
   "execution_count": null,
   "id": "a7bd27cf-8060-4136-abcc-f0923277ec5f",
   "metadata": {},
   "outputs": [],
   "source": []
  },
  {
   "cell_type": "code",
   "execution_count": null,
   "id": "c6a3885a-a8fb-40ff-9011-8dda9eb2f712",
   "metadata": {},
   "outputs": [],
   "source": []
  },
  {
   "cell_type": "code",
   "execution_count": null,
   "id": "1b7e1310-2805-4c12-8122-8e04cf566102",
   "metadata": {},
   "outputs": [],
   "source": []
  },
  {
   "cell_type": "code",
   "execution_count": null,
   "id": "ac079eab-7d25-4136-92ae-6197eccbbc28",
   "metadata": {},
   "outputs": [],
   "source": []
  },
  {
   "cell_type": "code",
   "execution_count": null,
   "id": "7d0d35e9-aebc-4068-be3d-2ba235e6987b",
   "metadata": {},
   "outputs": [],
   "source": []
  },
  {
   "cell_type": "code",
   "execution_count": null,
   "id": "bd34e3fa-3844-4330-ab30-613780863794",
   "metadata": {},
   "outputs": [],
   "source": []
  },
  {
   "cell_type": "code",
   "execution_count": null,
   "id": "508d6662-44e2-4afa-92a8-a812b388ff37",
   "metadata": {},
   "outputs": [],
   "source": []
  }
 ],
 "metadata": {
  "kernelspec": {
   "display_name": "Python 3 (ipykernel)",
   "language": "python",
   "name": "python3"
  },
  "language_info": {
   "codemirror_mode": {
    "name": "ipython",
    "version": 3
   },
   "file_extension": ".py",
   "mimetype": "text/x-python",
   "name": "python",
   "nbconvert_exporter": "python",
   "pygments_lexer": "ipython3",
   "version": "3.12.4"
  }
 },
 "nbformat": 4,
 "nbformat_minor": 5
}
